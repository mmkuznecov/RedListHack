{
 "cells": [
  {
   "cell_type": "markdown",
   "id": "e3fac391",
   "metadata": {},
   "source": [
    "### Crops"
   ]
  },
  {
   "cell_type": "code",
   "execution_count": null,
   "id": "00e8f3d0",
   "metadata": {},
   "outputs": [],
   "source": [
    "import matplotlib.pyplot as plt\n",
    "from tqdm.notebook import tqdm\n",
    "import pandas as pd"
   ]
  },
  {
   "cell_type": "code",
   "execution_count": null,
   "id": "c328ee0d",
   "metadata": {},
   "outputs": [],
   "source": [
    "for class_id, class_name in enumerate(classes):\n",
    "    if objects[class_name]:\n",
    "        objects_df = pd.read_csv(os.path.join(princess_path, 'objects.csv'), index_col='id')\n",
    "        for fname in tqdm(objects_df.index):\n",
    "            fname_ = clean_file_name(fname)\n",
    "            img_path = os.path.join(princess_path, 'images', fname_)\n",
    "            img = plt.imread(img_path)\n",
    "            bboxes = objects_df.loc[fname]['bbox']\n",
    "            bboxes = [bboxes] if type(bboxes) == str else bboxes\n",
    "            for bbox in bboxes:\n",
    "                bbox = list(map(lambda x: int(float(x)), bbox.split()))\n",
    "                bbox = list(map(lambda x: max(0, x), bbox))\n",
    "                img_cropped = img[bbox[1]:bbox[3], bbox[0]:bbox[2]]\n",
    "                img_cropped_path = os.path.join(princess_path, 'cropped_images', fname_)\n",
    "                plt.imsave(img_cropped_path, img_cropped)"
   ]
  },
  {
   "cell_type": "code",
   "execution_count": null,
   "id": "16c0e8fd",
   "metadata": {},
   "outputs": [],
   "source": [
    "def create_metadata_cropped(data_path, class2id, objects):\n",
    "    d = {'id':[], 'label':[], 'night':[], 'path':[]}\n",
    "    idx = 0\n",
    "    for (class_name, class_id) in class2id.items():\n",
    "        if objects[class_name]:\n",
    "            for fname in os.listdir(os.path.join(data_path, class_name, 'images')):\n",
    "                d['id'].append(idx)\n",
    "                d['label'].append(class_id)\n",
    "                d['night'].append(None)\n",
    "                d['path'].append(os.path.join(class_name, 'cropped_images', fname))\n",
    "                idx += 1\n",
    "    df = pd.DataFrame(d)\n",
    "    df.set_index('id', inplace=True)\n",
    "    df.to_csv(os.path.join(data_path, 'metadata_cropped.csv'))"
   ]
  }
 ],
 "metadata": {
  "kernelspec": {
   "display_name": "Python 3 (ipykernel)",
   "language": "python",
   "name": "python3"
  },
  "language_info": {
   "codemirror_mode": {
    "name": "ipython",
    "version": 3
   },
   "file_extension": ".py",
   "mimetype": "text/x-python",
   "name": "python",
   "nbconvert_exporter": "python",
   "pygments_lexer": "ipython3",
   "version": "3.7.12"
  }
 },
 "nbformat": 4,
 "nbformat_minor": 5
}
