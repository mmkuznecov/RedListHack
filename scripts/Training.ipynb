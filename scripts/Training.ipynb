{
 "cells": [
  {
   "cell_type": "code",
   "execution_count": null,
   "id": "bc7fed7b",
   "metadata": {},
   "outputs": [],
   "source": [
    "import os\n",
    "import configparser\n",
    "import pandas as pd\n",
    "\n",
    "os.environ['KMP_DUPLICATE_LIB_OK']='True'\n",
    "%matplotlib inline"
   ]
  },
  {
   "cell_type": "markdown",
   "id": "0dad7b98",
   "metadata": {},
   "source": [
    "### Config"
   ]
  },
  {
   "cell_type": "code",
   "execution_count": null,
   "id": "ba8db7da",
   "metadata": {},
   "outputs": [],
   "source": [
    "config = configparser.ConfigParser()\n",
    "config.read('settings.ini');"
   ]
  },
  {
   "cell_type": "code",
   "execution_count": null,
   "id": "1428fd56",
   "metadata": {},
   "outputs": [],
   "source": [
    "train_path = config['Path']['train_path']\n",
    "test_path = config['Path']['test_path']\n",
    "models_path = config['Path']['models_path']\n",
    "metadata_path = config['Path']['metadata_path']\n",
    "predictions_path  = config['Path']['predictions_path']\n",
    "other_class = config['Class']['other']\n",
    "classes  = [other_class] + config['Class']['classes'].split()\n",
    "\n",
    "labeling_model = config['Labeling']['labeling_model'] \n",
    "labeling_threshold = float(config['Labeling']['labeling_threshold'])\n",
    "\n",
    "learning_rate = float(config['Training']['learning_rate'])\n",
    "bs_per_image = int(config['Training']['bs_per_image'])\n",
    "max_iter = int(config['Training']['max_iter'])\n",
    "threshold = float(config['Training']['threshold'])\n",
    "model_config = config['Training']['model_config']"
   ]
  },
  {
   "cell_type": "code",
   "execution_count": null,
   "id": "ccc2f21f",
   "metadata": {},
   "outputs": [],
   "source": [
    "metadata_train_path = os.path.join(metadata_path, 'metadata_train.csv')\n",
    "metadata_test_path = os.path.join(metadata_path, 'metadata_test.csv')"
   ]
  },
  {
   "cell_type": "markdown",
   "id": "28252173",
   "metadata": {},
   "source": [
    "### Metadata"
   ]
  },
  {
   "cell_type": "code",
   "execution_count": null,
   "id": "d2d80c28",
   "metadata": {},
   "outputs": [],
   "source": [
    "from metadata import create_metadata\n",
    "from detector import Detector"
   ]
  },
  {
   "cell_type": "code",
   "execution_count": null,
   "id": "f6d3d659",
   "metadata": {},
   "outputs": [],
   "source": [
    "#detector = Detector(model_config, 'animals_train_full', learning_rate, max_iter, bs_per_image, len(classes), threshold)\n",
    "#detector.load_weights('output/{}/model_final.pth'.format(labeling_model))\n",
    "#detector.set_threshold(labeling_threshold)"
   ]
  },
  {
   "cell_type": "code",
   "execution_count": null,
   "id": "1dc56666",
   "metadata": {},
   "outputs": [],
   "source": [
    "create_metadata() #create_metadata(detector)"
   ]
  },
  {
   "cell_type": "code",
   "execution_count": null,
   "id": "da295213",
   "metadata": {},
   "outputs": [],
   "source": [
    "metadata_train = pd.read_csv(metadata_train_path, index_col='id')\n",
    "metadata_test = pd.read_csv(metadata_test_path, index_col='id')"
   ]
  },
  {
   "cell_type": "code",
   "execution_count": null,
   "id": "afb76826",
   "metadata": {},
   "outputs": [],
   "source": [
    "metadata_train = metadata_train.sample(frac=1).reset_index(drop=True)\n",
    "metadata_test = metadata_test.sample(frac=1).reset_index(drop=True)"
   ]
  },
  {
   "cell_type": "code",
   "execution_count": null,
   "id": "44b0d277",
   "metadata": {
    "scrolled": true
   },
   "outputs": [],
   "source": [
    "metadata_train.head()"
   ]
  },
  {
   "cell_type": "markdown",
   "id": "43e8dd56",
   "metadata": {},
   "source": [
    "# Detection"
   ]
  },
  {
   "cell_type": "code",
   "execution_count": null,
   "id": "a4f5dbdc",
   "metadata": {},
   "outputs": [],
   "source": [
    "from detector import get_animals_dicts, get_animals_dicts_test, init_catalog"
   ]
  },
  {
   "cell_type": "code",
   "execution_count": null,
   "id": "6a879a72",
   "metadata": {},
   "outputs": [],
   "source": [
    "test_val_split = float(config['Training']['test_val_split'])\n",
    "test_val_split_n = int(len(metadata_train) * test_val_split)"
   ]
  },
  {
   "cell_type": "code",
   "execution_count": null,
   "id": "a3cc21fd",
   "metadata": {},
   "outputs": [],
   "source": [
    "init_catalog('animals_train_full', metadata_train, train_path, classes)\n",
    "init_catalog('animals_train', metadata_train[:test_val_split_n], train_path, classes)    \n",
    "init_catalog('animals_val', metadata_train[test_val_split_n:], train_path, classes)    \n",
    "init_catalog('animals_test', metadata_test, test_path, classes, train=False)     "
   ]
  },
  {
   "cell_type": "markdown",
   "id": "192c0053",
   "metadata": {},
   "source": [
    "### Training"
   ]
  },
  {
   "cell_type": "code",
   "execution_count": null,
   "id": "aa638545",
   "metadata": {},
   "outputs": [],
   "source": [
    "from detector import Detector"
   ]
  },
  {
   "cell_type": "code",
   "execution_count": null,
   "id": "93565335",
   "metadata": {
    "scrolled": true
   },
   "outputs": [],
   "source": [
    "detector = Detector(model_config, 'animals_train_full', learning_rate, max_iter, bs_per_image, len(classes), threshold,\n",
    "                   model_name='model_c')"
   ]
  },
  {
   "cell_type": "code",
   "execution_count": null,
   "id": "46c37097",
   "metadata": {},
   "outputs": [],
   "source": [
    "#detector.load_weights('output/last/model_final.pth')"
   ]
  },
  {
   "cell_type": "code",
   "execution_count": null,
   "id": "31c8b8c1",
   "metadata": {
    "scrolled": true
   },
   "outputs": [],
   "source": [
    "detector.train()"
   ]
  },
  {
   "cell_type": "markdown",
   "id": "c4e17070",
   "metadata": {},
   "source": [
    "### Prediction"
   ]
  },
  {
   "cell_type": "code",
   "execution_count": null,
   "id": "a15a8b9b",
   "metadata": {},
   "outputs": [],
   "source": [
    "import random\n",
    "import matplotlib.pyplot as plt\n",
    "import cv2\n",
    "from detectron2.utils.visualizer import Visualizer\n",
    "from detectron2.utils.visualizer import ColorMode"
   ]
  },
  {
   "cell_type": "code",
   "execution_count": null,
   "id": "6d988168",
   "metadata": {},
   "outputs": [],
   "source": [
    "detector.set_threshold(0.35)"
   ]
  },
  {
   "cell_type": "code",
   "execution_count": null,
   "id": "895916cd",
   "metadata": {},
   "outputs": [],
   "source": [
    "dataset_dicts = get_animals_dicts_test(metadata_test, test_path)"
   ]
  },
  {
   "cell_type": "code",
   "execution_count": null,
   "id": "6134712f",
   "metadata": {
    "scrolled": false
   },
   "outputs": [],
   "source": [
    "for d in random.sample(dataset_dicts, 10):    \n",
    "    im = cv2.imread(d[\"file_name\"])\n",
    "    outputs = detector.predict(im)\n",
    "    v = Visualizer(im[:, :, ::-1],\n",
    "                   metadata=detector.metadata, \n",
    "                   scale=0.8,\n",
    "                   instance_mode=ColorMode.IMAGE   \n",
    "    )\n",
    "    v = v.draw_instance_predictions(outputs[\"instances\"].to(\"cpu\"))\n",
    "    fig, ax = plt.subplots(1, 1, figsize=(15, 15))\n",
    "    ax.imshow(v.get_image())\n",
    "    plt.show()"
   ]
  }
 ],
 "metadata": {
  "kernelspec": {
   "display_name": "Python 3 (ipykernel)",
   "language": "python",
   "name": "python3"
  },
  "language_info": {
   "codemirror_mode": {
    "name": "ipython",
    "version": 3
   },
   "file_extension": ".py",
   "mimetype": "text/x-python",
   "name": "python",
   "nbconvert_exporter": "python",
   "pygments_lexer": "ipython3",
   "version": "3.7.12"
  }
 },
 "nbformat": 4,
 "nbformat_minor": 5
}
